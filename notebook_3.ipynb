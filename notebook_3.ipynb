{
 "cells": [
  {
   "attachments": {
    "logo.PNG": {
     "image/png": "[encoded data removed]"
    }
   },
   "cell_type": "markdown",
   "id": "60526978",
   "metadata": {},
   "source": [
    "![logo.PNG](attachment:logo.PNG)"
   ]
  },
  {
   "cell_type": "code",
   "execution_count": 1,
   "id": "cad1e6fa",
   "metadata": {},
   "outputs": [],
   "source": [
    "# check for PEP-8 compliance\n",
    "# %load_ext pycodestyle_magic\n",
    "# %pycodestyle_on\n",
    "# %pycodestyle_off"
   ]
  },
  {
   "cell_type": "code",
   "execution_count": 1,
   "id": "294c8dee",
   "metadata": {},
   "outputs": [
    {
     "data": {
      "text/html": [
       "<b>Olist Client Segmentation - Maintenance</b>\n",
       "<div id=\"OCDS_P5\">run previous cell, wait for 2 seconds</div>\n",
       "<script>\n",
       "function repeat_indent_string(n){\n",
       "    var a = \"\" ;\n",
       "    for ( ; n > 0 ; --n)\n",
       "        a += \"    \";\n",
       "    return a;\n",
       "}\n",
       "// look up into all sections and builds an automated menu //\n",
       "var update_menu_string = function(begin, lfirst, llast, sformat, send, keep_item, begin_format, end_format) {\n",
       "    var anchors = document.getElementsByClassName(\"section\");\n",
       "    if (anchors.length == 0) {\n",
       "        anchors = document.getElementsByClassName(\"text_cell_render rendered_html\");\n",
       "    }\n",
       "    var i,t;\n",
       "    var text_menu = begin;\n",
       "    var text_memo = \"<pre>\\nlength:\" + anchors.length + \"\\n\";\n",
       "    var ind = \"\";\n",
       "    var memo_level = 1;\n",
       "    var href;\n",
       "    var tags = [];\n",
       "    var main_item = 0;\n",
       "    var format_open = 0;\n",
       "    for (i = 0; i <= llast; i++)\n",
       "        tags.push(\"h\" + i);\n",
       "\n",
       "    for (i = 0; i < anchors.length; i++) {\n",
       "        text_memo += \"**\" + anchors[i].id + \"--\\n\";\n",
       "\n",
       "        var child = null;\n",
       "        for(t = 0; t < tags.length; t++) {\n",
       "            var r = anchors[i].getElementsByTagName(tags[t]);\n",
       "            if (r.length > 0) {\n",
       "child = r[0];\n",
       "break;\n",
       "            }\n",
       "        }\n",
       "        if (child == null) {\n",
       "            text_memo += \"null\\n\";\n",
       "            continue;\n",
       "        }\n",
       "        if (anchors[i].hasAttribute(\"id\")) {\n",
       "            // when converted in RST\n",
       "            href = anchors[i].id;\n",
       "            text_memo += \"#1-\" + href;\n",
       "            // passer à child suivant (le chercher)\n",
       "        }\n",
       "        else if (child.hasAttribute(\"id\")) {\n",
       "            // in a notebook\n",
       "            href = child.id;\n",
       "            text_memo += \"#2-\" + href;\n",
       "        }\n",
       "        else {\n",
       "            text_memo += \"#3-\" + \"*\" + \"\\n\";\n",
       "            continue;\n",
       "        }\n",
       "        var title = child.textContent;\n",
       "        var level = parseInt(child.tagName.substring(1,2));\n",
       "\n",
       "        text_memo += \"--\" + level + \"?\" + lfirst + \"--\" + title + \"\\n\";\n",
       "\n",
       "        if ((level < lfirst) || (level > llast)) {\n",
       "            continue ;\n",
       "        }\n",
       "        if (title.endsWith('¶')) {\n",
       "            title = title.substring(0,title.length-1).replace(\"<\", \"&lt;\")\n",
       "         .replace(\">\", \"&gt;\").replace(\"&\", \"&amp;\");\n",
       "        }\n",
       "        if (title.length == 0) {\n",
       "            continue;\n",
       "        }\n",
       "\n",
       "        while (level < memo_level) {\n",
       "            text_menu += end_format + \"</ul>\\n\";\n",
       "            format_open -= 1;\n",
       "            memo_level -= 1;\n",
       "        }\n",
       "        if (level == lfirst) {\n",
       "            main_item += 1;\n",
       "        }\n",
       "        if (keep_item != -1 && main_item != keep_item + 1) {\n",
       "            // alert(main_item + \" - \" + level + \" - \" + keep_item);\n",
       "            continue;\n",
       "        }\n",
       "        while (level > memo_level) {\n",
       "            text_menu += \"<ul>\\n\";\n",
       "            memo_level += 1;\n",
       "        }\n",
       "        text_menu += repeat_indent_string(level-2);\n",
       "        text_menu += begin_format + sformat.replace(\"__HREF__\", href).replace(\"__TITLE__\", title);\n",
       "        format_open += 1;\n",
       "    }\n",
       "    while (1 < memo_level) {\n",
       "        text_menu += end_format + \"</ul>\\n\";\n",
       "        memo_level -= 1;\n",
       "        format_open -= 1;\n",
       "    }\n",
       "    text_menu += send;\n",
       "    //text_menu += \"\\n\" + text_memo;\n",
       "\n",
       "    while (format_open > 0) {\n",
       "        text_menu += end_format;\n",
       "        format_open -= 1;\n",
       "    }\n",
       "    return text_menu;\n",
       "};\n",
       "var update_menu = function() {\n",
       "    var sbegin = \"\";\n",
       "    var sformat = '<a href=\"#__HREF__\">__TITLE__</a>';\n",
       "    var send = \"\";\n",
       "    var begin_format = '<li>';\n",
       "    var end_format = '</li>';\n",
       "    var keep_item = -1;\n",
       "    var text_menu = update_menu_string(sbegin, 1, 5, sformat, send, keep_item,\n",
       "       begin_format, end_format);\n",
       "    var menu = document.getElementById(\"OCDS_P5\");\n",
       "    menu.innerHTML=text_menu;\n",
       "};\n",
       "window.setTimeout(update_menu,2000);\n",
       "            </script>"
      ],
      "text/plain": [
       "<IPython.core.display.HTML object>"
      ]
     },
     "execution_count": 1,
     "metadata": {},
     "output_type": "execute_result"
    }
   ],
   "source": [
    "# add notebook summary\n",
    "import jyquickhelper as jqh\n",
    "from jyquickhelper import add_notebook_menu\n",
    "add_notebook_menu(menu_id='OCDS_P5', raw=False, format='html',\n",
    "                  header=\"Olist Client Segmentation - Maintenance\", first_level=1, last_level=5,\n",
    "                  keep_item=None)"
   ]
  },
  {
   "cell_type": "code",
   "execution_count": 2,
   "id": "c4e965be",
   "metadata": {},
   "outputs": [
    {
     "name": "stdout",
     "output_type": "stream",
     "text": [
      "64\n"
     ]
    }
   ],
   "source": [
    "# check Python interpreter is running in 64-bit to maximize memory available for calculations\n",
    "import struct\n",
    "print(struct.calcsize(\"P\") * 8)"
   ]
  },
  {
   "cell_type": "code",
   "execution_count": 3,
   "id": "829dcbc9",
   "metadata": {},
   "outputs": [
    {
     "name": "stdout",
     "output_type": "stream",
     "text": [
      "ciel hex : #0a4ee4\n",
      "cyan hex : #001647\n",
      "cherry hex : #e64e36\n"
     ]
    }
   ],
   "source": [
    "# utilities\n",
    "import os\n",
    "os.environ[\"OMP_NUM_THREADS\"] = '1' # needed to avoid memory leak warning with K-Means in Windows environment\n",
    "\n",
    "# math & stats\n",
    "import math\n",
    "\n",
    "# data analysis\n",
    "import numpy as np\n",
    "import pandas as pd\n",
    "\n",
    "# data visualisation\n",
    "import matplotlib.pyplot as plt\n",
    "import plotly.graph_objects as go\n",
    "import seaborn as sns\n",
    "# from yellowbrick.cluster import KElbowVisualizer\n",
    "# from yellowbrick.features import PCA\n",
    "\n",
    "# metrics\n",
    "from sklearn.metrics import adjusted_rand_score\n",
    "from kneed import KneeLocator\n",
    "\n",
    "# data preprocessing\n",
    "from sklearn.preprocessing import scale, StandardScaler, PowerTransformer, OneHotEncoder, LabelEncoder\n",
    "from sklearn.pipeline import Pipeline\n",
    "from sklearn.compose import ColumnTransformer\n",
    "from pyclustertend import vat\n",
    "\n",
    "# configure transformers to output pandas DataFrames\n",
    "# https://scikit-learn.org/1.5/auto_examples/miscellaneous/\n",
    "# plot_set_output.html#sphx-glr-auto-examples-miscellaneous-plot-set-output-py\n",
    "from sklearn import set_config\n",
    "set_config(transform_output=\"pandas\")\n",
    "\n",
    "# avoid error message when running GridSearch with OneHotEncoder in Pipe\n",
    "# Pandas output does not support sparse data. Set sparse_output=False to output pandas dataframes or disable Pandas output via\n",
    "# ` ohe.set_output(transform=\"default\")\n",
    "# set_config(transform_output=\"default\")\n",
    "\n",
    "# PCA\n",
    "from sklearn.decomposition import PCA\n",
    "\n",
    "# clustering\n",
    "import scipy.cluster.hierarchy as shc\n",
    "from sklearn.cluster import KMeans, MiniBatchKMeans, DBSCAN, AffinityPropagation\n",
    "from sklearn_extra.cluster import KMedoids\n",
    "# from kmodes.kprototypes import KPrototypes\n",
    "from sklearn.neighbors import NearestNeighbors\n",
    "import hdbscan\n",
    "\n",
    "# import user-defined functions\n",
    "from functions import *\n",
    "\n",
    "# set dataframe display options\n",
    "pd.set_option('max_colwidth', None)\n",
    "pd.set_option('display.max_columns', None)\n",
    "\n",
    "# silence warnings after checking\n",
    "import warnings\n",
    "pd.set_option('future.no_silent_downcasting', False)\n",
    "warnings.simplefilter(action='ignore', category=FutureWarning)\n",
    "warnings.simplefilter(action='ignore', category=UserWarning)\n",
    "\n",
    "# extract colors from logo for ppt slideshow\n",
    "ciel = findColor('olist_blue.png')\n",
    "cyan = findColor('olist_dark_blue.png')\n",
    "cherry = findColor('olist_red.png')\n",
    "print(\"ciel hex :\", ciel)\n",
    "print(\"cyan hex :\", cyan)\n",
    "print(\"cherry hex :\", cherry)"
   ]
  },
  {
   "cell_type": "code",
   "execution_count": 4,
   "id": "afced0e6",
   "metadata": {},
   "outputs": [],
   "source": [
    "# import data\n",
    "data_trim = pd.read_csv('data_trim.csv', encoding='utf-8')\n",
    "# data_trim.head(1)"
   ]
  },
  {
   "cell_type": "code",
   "execution_count": 5,
   "id": "a1943315",
   "metadata": {},
   "outputs": [],
   "source": [
    "data_trim['last_order_date'] = pd.to_datetime(data_trim['last_order_date'])"
   ]
  },
  {
   "cell_type": "code",
   "execution_count": 6,
   "id": "3f7ba1a7",
   "metadata": {},
   "outputs": [
    {
     "name": "stdout",
     "output_type": "stream",
     "text": [
      "<class 'pandas.core.frame.DataFrame'>\n",
      "RangeIndex: 95340 entries, 0 to 95339\n",
      "Data columns (total 19 columns):\n",
      " #   Column                  Non-Null Count  Dtype         \n",
      "---  ------                  --------------  -----         \n",
      " 0   customer_id             95340 non-null  object        \n",
      " 1   altitude                95340 non-null  float64       \n",
      " 2   pop_density             95340 non-null  float64       \n",
      " 3   motor_vehicles          95340 non-null  float64       \n",
      " 4   GDP_per_capita          95340 non-null  float64       \n",
      " 5   post_offices            95340 non-null  float64       \n",
      " 6   tax_gdp_%               95340 non-null  float64       \n",
      " 7   nb_of_orders            95340 non-null  float64       \n",
      " 8   total_spent             95340 non-null  float64       \n",
      " 9   total_freight           95340 non-null  float64       \n",
      " 10  total_products          95340 non-null  float64       \n",
      " 11  product_weight_avg      95340 non-null  float64       \n",
      " 12  review_score_avg        95340 non-null  float64       \n",
      " 13  shipping_distance_avg   95340 non-null  float64       \n",
      " 14  last_order_date         95340 non-null  datetime64[ns]\n",
      " 15  delivery_timeframe_avg  95340 non-null  float64       \n",
      " 16  last_order_age_in_days  95340 non-null  float64       \n",
      " 17  average_basket          95340 non-null  float64       \n",
      " 18  purchase_frequency      95340 non-null  float64       \n",
      "dtypes: datetime64[ns](1), float64(17), object(1)\n",
      "memory usage: 13.8+ MB\n"
     ]
    }
   ],
   "source": [
    "data_trim.info()"
   ]
  },
  {
   "cell_type": "code",
   "execution_count": 7,
   "id": "7252b91d",
   "metadata": {},
   "outputs": [
    {
     "data": {
      "text/plain": [
       "101"
      ]
     },
     "execution_count": 7,
     "metadata": {},
     "output_type": "execute_result"
    }
   ],
   "source": [
    "# Define date range in file\n",
    "data_start = data_trim['last_order_date'].min()\n",
    "data_end = data_trim['last_order_date'].max()\n",
    "\n",
    "# Calculate number of weeks in file\n",
    "data_weeks = (data_end - data_start).days // 7\n",
    "data_weeks"
   ]
  },
  {
   "cell_type": "code",
   "execution_count": 8,
   "id": "53633cf8",
   "metadata": {},
   "outputs": [
    {
     "data": {
      "text/plain": [
       "Timestamp('2018-08-29 00:00:00')"
      ]
     },
     "execution_count": 8,
     "metadata": {},
     "output_type": "execute_result"
    }
   ],
   "source": [
    "data_end"
   ]
  },
  {
   "cell_type": "markdown",
   "id": "f8565b86",
   "metadata": {},
   "source": [
    "## 3.9 - Model drift & maintenance contract"
   ]
  },
  {
   "cell_type": "markdown",
   "id": "2025fd8c",
   "metadata": {},
   "source": [
    "**Calculate ARI scores with the following methodology :  \n",
    "With the start date T0 equal to the date of the last transaction placed by a client in the file (29/08/2018), generate a customer file Fi at date Ti that includes all orders placed up until Ti, with Ti equal to T0 minus i weeks. 52 files will be generated, looking back a full year from the last transaction.\n",
    "Initial model M0 is fitted at T0 on file F0 (which includes all of the transactions) and returns cluster numbers C0. At each date Ti, model M0 is used to predict the cluster numbers C0-i on each file Fi. A new model Mi is also fitted on each file Fi, and is used to predict cluster numbers Ci ; the ARI score is then calculated between cluster numbers C0-i and Ci on each file Fi.\n",
    "The recommendation will be to re-train the model on new data as soon as the ARI score so obtained drops below 0.8 (commonly accepted threshold for accuracy in cluster numbers prediction).** "
   ]
  },
  {
   "cell_type": "markdown",
   "id": "3b23d70a",
   "metadata": {},
   "source": [
    "- **Create weekly dataframes with client transactions, starting from data_end and looking back a year:**"
   ]
  },
  {
   "cell_type": "code",
   "execution_count": 9,
   "id": "c5a5df2e",
   "metadata": {},
   "outputs": [],
   "source": [
    "def create_weekly_dfs(df, date_column, t0, nb_weeks_prior):\n",
    "    \"\"\" Filter the DataFrame for orders up to end_date and return distinct DataFrames for each nb_weeks_prior \"\"\"\n",
    "    # Strip whitespace from column names\n",
    "    df.columns = df.columns.str.strip()\n",
    "    \n",
    "    # Create dataframe to store week number and corresponding DataFrame names\n",
    "    ari_df = pd.DataFrame(columns=['File Name', 'Week Number'])\n",
    "    \n",
    "    # Check if the specified date_column exists\n",
    "    if date_column not in df.columns:\n",
    "        raise KeyError(f\"Column '{date_column}' not found in DataFrame. Available columns: {df.columns.tolist()}\")\n",
    "\n",
    "    # Create and store customer DataFrame at t0\n",
    "    customer_df_t0 = df[df[date_column] <= t0].drop(columns=['customer_id', date_column], errors='ignore')\n",
    "    \n",
    "    # Store the results in a dictionary\n",
    "    customer_dfs = {'t0': customer_df_t0}\n",
    "\n",
    "    # Print size of the DataFrame at t0\n",
    "    print(f\"Size of the DataFrame at t0: {customer_df_t0.shape[0]} rows, {customer_df_t0.shape[1]} columns\")\n",
    "\n",
    "    for weeks_back in range(1, nb_weeks_prior + 1):  # From 1 week to nb_weeks_prior\n",
    "        t1 = t0 + pd.Timedelta(weeks=-weeks_back)  # Calculate t1\n",
    "        customer_df = df[df[date_column] <= t1].drop(columns=['customer_id', date_column], errors='ignore') # Filter df\n",
    "        \n",
    "        # Store the customer's DataFrame in the dictionary with a descriptive key\n",
    "        customer_dfs[f'df_{weeks_back}_weeks_prior'] = customer_df\n",
    "        \n",
    "        # Create a new row for ARI dataframe\n",
    "        new_row = pd.DataFrame({'DF Name': [f'df_{weeks_back}_weeks_prior'], 'Week Number': [weeks_back]})\n",
    "        \n",
    "        # Concatenate the new row with the existing ARI DataFrame\n",
    "        ari_df = pd.concat([ari_df, new_row], ignore_index=True)\n",
    "        \n",
    "        # Print the size of the saved DataFrame\n",
    "        print(f\"Size of the DataFrame for {weeks_back} week(s) prior: {customer_df.shape[0]} rows,\\\n",
    "              {customer_df.shape[1]} columns\")\n",
    "\n",
    "    return customer_dfs, ari_df, customer_df_t0  # Return both created DataFrames and ARI DataFrame"
   ]
  },
  {
   "cell_type": "code",
   "execution_count": 10,
   "id": "ee31074a",
   "metadata": {},
   "outputs": [
    {
     "name": "stdout",
     "output_type": "stream",
     "text": [
      "Size of the DataFrame at t0: 95340 rows, 17 columns\n",
      "Size of the DataFrame for 1 week(s) prior: 94848 rows,              17 columns\n",
      "Size of the DataFrame for 2 week(s) prior: 93226 rows,              17 columns\n",
      "Size of the DataFrame for 3 week(s) prior: 91460 rows,              17 columns\n",
      "Size of the DataFrame for 4 week(s) prior: 89340 rows,              17 columns\n",
      "Size of the DataFrame for 5 week(s) prior: 87678 rows,              17 columns\n",
      "Size of the DataFrame for 6 week(s) prior: 85974 rows,              17 columns\n",
      "Size of the DataFrame for 7 week(s) prior: 84658 rows,              17 columns\n",
      "Size of the DataFrame for 8 week(s) prior: 83751 rows,              17 columns\n",
      "Size of the DataFrame for 9 week(s) prior: 82413 rows,              17 columns\n",
      "Size of the DataFrame for 10 week(s) prior: 80988 rows,              17 columns\n",
      "Size of the DataFrame for 11 week(s) prior: 79604 rows,              17 columns\n",
      "Size of the DataFrame for 12 week(s) prior: 78048 rows,              17 columns\n",
      "Size of the DataFrame for 13 week(s) prior: 76766 rows,              17 columns\n",
      "Size of the DataFrame for 14 week(s) prior: 75928 rows,              17 columns\n",
      "Size of the DataFrame for 15 week(s) prior: 74661 rows,              17 columns\n",
      "Size of the DataFrame for 16 week(s) prior: 72702 rows,              17 columns\n",
      "Size of the DataFrame for 17 week(s) prior: 70746 rows,              17 columns\n",
      "Size of the DataFrame for 18 week(s) prior: 69167 rows,              17 columns\n",
      "Size of the DataFrame for 19 week(s) prior: 67530 rows,              17 columns\n",
      "Size of the DataFrame for 20 week(s) prior: 65925 rows,              17 columns\n",
      "Size of the DataFrame for 21 week(s) prior: 64450 rows,              17 columns\n",
      "Size of the DataFrame for 22 week(s) prior: 62981 rows,              17 columns\n",
      "Size of the DataFrame for 23 week(s) prior: 61474 rows,              17 columns\n",
      "Size of the DataFrame for 24 week(s) prior: 59731 rows,              17 columns\n",
      "Size of the DataFrame for 25 week(s) prior: 58292 rows,              17 columns\n",
      "Size of the DataFrame for 26 week(s) prior: 56578 rows,              17 columns\n",
      "Size of the DataFrame for 27 week(s) prior: 54793 rows,              17 columns\n",
      "Size of the DataFrame for 28 week(s) prior: 53147 rows,              17 columns\n",
      "Size of the DataFrame for 29 week(s) prior: 51677 rows,              17 columns\n",
      "Size of the DataFrame for 30 week(s) prior: 50109 rows,              17 columns\n",
      "Size of the DataFrame for 31 week(s) prior: 48638 rows,              17 columns\n",
      "Size of the DataFrame for 32 week(s) prior: 47030 rows,              17 columns\n",
      "Size of the DataFrame for 33 week(s) prior: 45241 rows,              17 columns\n",
      "Size of the DataFrame for 34 week(s) prior: 43612 rows,              17 columns\n",
      "Size of the DataFrame for 35 week(s) prior: 42693 rows,              17 columns\n",
      "Size of the DataFrame for 36 week(s) prior: 41884 rows,              17 columns\n",
      "Size of the DataFrame for 37 week(s) prior: 40716 rows,              17 columns\n",
      "Size of the DataFrame for 38 week(s) prior: 39238 rows,              17 columns\n",
      "Size of the DataFrame for 39 week(s) prior: 37439 rows,              17 columns\n",
      "Size of the DataFrame for 40 week(s) prior: 34116 rows,              17 columns\n",
      "Size of the DataFrame for 41 week(s) prior: 32798 rows,              17 columns\n",
      "Size of the DataFrame for 42 week(s) prior: 31598 rows,              17 columns\n",
      "Size of the DataFrame for 43 week(s) prior: 30604 rows,              17 columns\n",
      "Size of the DataFrame for 44 week(s) prior: 29736 rows,              17 columns\n",
      "Size of the DataFrame for 45 week(s) prior: 28733 rows,              17 columns\n",
      "Size of the DataFrame for 46 week(s) prior: 27671 rows,              17 columns\n",
      "Size of the DataFrame for 47 week(s) prior: 26685 rows,              17 columns\n",
      "Size of the DataFrame for 48 week(s) prior: 25727 rows,              17 columns\n",
      "Size of the DataFrame for 49 week(s) prior: 24818 rows,              17 columns\n",
      "Size of the DataFrame for 50 week(s) prior: 23794 rows,              17 columns\n",
      "Size of the DataFrame for 51 week(s) prior: 22790 rows,              17 columns\n",
      "Size of the DataFrame for 52 week(s) prior: 21846 rows,              17 columns\n"
     ]
    }
   ],
   "source": [
    "initial_date = data_trim['last_order_date'].max()\n",
    "# nb_weeks_prior = data_weeks  # Number of weeks to go back\n",
    "nb_weeks_prior = 52\n",
    "\n",
    "# Create customer files for each week prior\n",
    "customer_dfs, ari_df, t0 = create_weekly_dfs(data_trim, 'last_order_date', initial_date, nb_weeks_prior)"
   ]
  },
  {
   "cell_type": "markdown",
   "id": "e1e6e66b",
   "metadata": {},
   "source": [
    "- **Calculate ARI scores for cluster numbers C0-i obtained from model M0 fitted at T0 and predicted at Ti, and cluster numbers Ci obtained from model Mi fitted and predicted at Ti:**"
   ]
  },
  {
   "cell_type": "code",
   "execution_count": 11,
   "id": "cb0533ea",
   "metadata": {},
   "outputs": [],
   "source": [
    "def fit_and_predict_kmeans_4(data_at_t_zero, customer_dfs, n_clusters=4):\n",
    "    \"\"\" Fit KMeans on data_at_t_zero, predict clusters for other DataFrames, and calculate ARI scores. \"\"\"\n",
    "    \n",
    "    # Preprocess data_at_t_zero\n",
    "    pt = PowerTransformer(method='yeo-johnson', standardize=True)\n",
    "    X_transformed_t0 = pt.fit_transform(data_at_t_zero)\n",
    "\n",
    "    # Fit KMeans on data_at_t_zero\n",
    "    kmeans_t0 = KMeans(n_clusters=n_clusters, random_state=42)\n",
    "    kmeans_t0.fit(X_transformed_t0)\n",
    "   \n",
    "    # List to store ARI scores for DataFrame creation later\n",
    "    ari_scores_list = []\n",
    "\n",
    "    # Iterate through each customer DataFrame in the customer_dfs dictionary\n",
    "    for index, (name, df) in enumerate(customer_dfs.items()):\n",
    "        # Preprocess the other DataFrames using the same transformer\n",
    "        X_transformed_other = pt.transform(df)\n",
    "        \n",
    "        # Predict clusters for the current DataFrame using the model fitted on data_at_t_zero\n",
    "        t_zero_clusters = kmeans_t0.predict(X_transformed_other)\n",
    "\n",
    "        # Fit KMeans on the current DataFrame\n",
    "        kmeans_other = KMeans(n_clusters=n_clusters, random_state=42)\n",
    "        kmeans_other.fit(X_transformed_other)\n",
    "\n",
    "        # Predict clusters for the current DataFrame\n",
    "        t_clusters = kmeans_other.predict(X_transformed_other)\n",
    "        \n",
    "        # Calculate ARI score between t_zero_clusters and t_clusters\n",
    "        ari_score = adjusted_rand_score(t_zero_clusters, t_clusters)\n",
    "        \n",
    "        # Append ARI score to the list with index corresponding to DataFrame number\n",
    "        ari_scores_list.append({'DF Name': name, 'Week Number': index, 'ARI Score': ari_score})\n",
    "        \n",
    "        # Print ARI score\n",
    "        print(f\"ARI score between t_zero_clusters and {name}: {ari_score:.4f}\")\n",
    "\n",
    "    # Convert ARI scores list to a DataFrame\n",
    "    ari_scores_df = pd.DataFrame(ari_scores_list)\n",
    "\n",
    "    return ari_scores_df\n",
    "\n",
    "# Example usage:\n",
    "# df = pd.read_csv('your_data.csv')  # Load your data here\n",
    "# customer_dfs, ari_df = create_weekly_dfs(df, 'order_date', pd.Timestamp('2025-02-01'), 4)\n",
    "# data_at_t_zero = customer_dfs['t0']  # Get the initial DataFrame for clustering\n",
    "# output_dataframes, ari_scores = fit_and_predict_kmeans_4(data_at_t_zero, customer_dfs)\n"
   ]
  },
  {
   "cell_type": "code",
   "execution_count": 12,
   "id": "e31b54e5",
   "metadata": {},
   "outputs": [
    {
     "name": "stdout",
     "output_type": "stream",
     "text": [
      "ARI score between t_zero_clusters and t0: 1.0000\n",
      "ARI score between t_zero_clusters and df_1_weeks_prior: 0.9397\n",
      "ARI score between t_zero_clusters and df_2_weeks_prior: 0.9446\n",
      "ARI score between t_zero_clusters and df_3_weeks_prior: 0.9338\n",
      "ARI score between t_zero_clusters and df_4_weeks_prior: 0.9672\n",
      "ARI score between t_zero_clusters and df_5_weeks_prior: 0.9534\n",
      "ARI score between t_zero_clusters and df_6_weeks_prior: 0.9200\n",
      "ARI score between t_zero_clusters and df_7_weeks_prior: 0.9575\n",
      "ARI score between t_zero_clusters and df_8_weeks_prior: 0.9523\n",
      "ARI score between t_zero_clusters and df_9_weeks_prior: 0.9342\n",
      "ARI score between t_zero_clusters and df_10_weeks_prior: 0.8989\n",
      "ARI score between t_zero_clusters and df_11_weeks_prior: 0.9311\n",
      "ARI score between t_zero_clusters and df_12_weeks_prior: 0.9352\n",
      "ARI score between t_zero_clusters and df_13_weeks_prior: 0.8914\n",
      "ARI score between t_zero_clusters and df_14_weeks_prior: 0.4303\n",
      "ARI score between t_zero_clusters and df_15_weeks_prior: 0.3454\n",
      "ARI score between t_zero_clusters and df_16_weeks_prior: 0.9236\n",
      "ARI score between t_zero_clusters and df_17_weeks_prior: 0.9155\n",
      "ARI score between t_zero_clusters and df_18_weeks_prior: 0.8977\n",
      "ARI score between t_zero_clusters and df_19_weeks_prior: 0.8961\n",
      "ARI score between t_zero_clusters and df_20_weeks_prior: 0.9084\n",
      "ARI score between t_zero_clusters and df_21_weeks_prior: 0.9079\n",
      "ARI score between t_zero_clusters and df_22_weeks_prior: 0.8905\n",
      "ARI score between t_zero_clusters and df_23_weeks_prior: 0.8936\n",
      "ARI score between t_zero_clusters and df_24_weeks_prior: 0.8806\n",
      "ARI score between t_zero_clusters and df_25_weeks_prior: 0.8682\n",
      "ARI score between t_zero_clusters and df_26_weeks_prior: 0.8690\n",
      "ARI score between t_zero_clusters and df_27_weeks_prior: 0.8706\n",
      "ARI score between t_zero_clusters and df_28_weeks_prior: 0.8770\n",
      "ARI score between t_zero_clusters and df_29_weeks_prior: 0.8721\n",
      "ARI score between t_zero_clusters and df_30_weeks_prior: 0.8729\n",
      "ARI score between t_zero_clusters and df_31_weeks_prior: 0.8705\n",
      "ARI score between t_zero_clusters and df_32_weeks_prior: 0.8700\n",
      "ARI score between t_zero_clusters and df_33_weeks_prior: 0.8488\n",
      "ARI score between t_zero_clusters and df_34_weeks_prior: 0.8438\n",
      "ARI score between t_zero_clusters and df_35_weeks_prior: 0.8410\n",
      "ARI score between t_zero_clusters and df_36_weeks_prior: 0.8383\n",
      "ARI score between t_zero_clusters and df_37_weeks_prior: 0.8386\n",
      "ARI score between t_zero_clusters and df_38_weeks_prior: 0.8539\n",
      "ARI score between t_zero_clusters and df_39_weeks_prior: 0.8501\n",
      "ARI score between t_zero_clusters and df_40_weeks_prior: 0.8517\n",
      "ARI score between t_zero_clusters and df_41_weeks_prior: 0.8331\n",
      "ARI score between t_zero_clusters and df_42_weeks_prior: 0.8354\n",
      "ARI score between t_zero_clusters and df_43_weeks_prior: 0.8464\n",
      "ARI score between t_zero_clusters and df_44_weeks_prior: 0.8438\n",
      "ARI score between t_zero_clusters and df_45_weeks_prior: 0.8396\n",
      "ARI score between t_zero_clusters and df_46_weeks_prior: 0.8363\n",
      "ARI score between t_zero_clusters and df_47_weeks_prior: 0.8313\n",
      "ARI score between t_zero_clusters and df_48_weeks_prior: 0.8274\n",
      "ARI score between t_zero_clusters and df_49_weeks_prior: 0.8280\n",
      "ARI score between t_zero_clusters and df_50_weeks_prior: 0.8236\n",
      "ARI score between t_zero_clusters and df_51_weeks_prior: 0.8079\n",
      "ARI score between t_zero_clusters and df_52_weeks_prior: 0.8179\n"
     ]
    }
   ],
   "source": [
    "# Call the function to fit KMeans and calculate ARI scores\n",
    "ari_scores = fit_and_predict_kmeans_4(t0, customer_dfs)"
   ]
  },
  {
   "cell_type": "code",
   "execution_count": 13,
   "id": "30fe4b84",
   "metadata": {},
   "outputs": [
    {
     "data": {
      "image/png": "[encoded data removed]",
      "text/plain": [
       "<Figure size 1500x500 with 1 Axes>"
      ]
     },
     "metadata": {},
     "output_type": "display_data"
    }
   ],
   "source": [
    "# plot ARI scores\n",
    "sns.set(rc={'figure.figsize':(15, 5), 'axes.facecolor':'white', 'figure.facecolor':'gainsboro'})\n",
    "x = ari_scores.index\n",
    "y = ari_scores['ARI Score']\n",
    "plt.fill_between(x, y, color=cherry)\n",
    "plt.xlabel('Number of weeks', fontsize=12, fontweight='bold')\n",
    "plt.xticks(fontsize=12)\n",
    "plt.xlim(0, 52)\n",
    "plt.ylim(0, 1.25)\n",
    "plt.ylabel('ARI score', fontsize=12, fontweight='bold')\n",
    "plt.yticks(fontsize=12)\n",
    "plt.grid(axis='y', color='gainsboro')\n",
    "plt.title('Weekly ARI score for K-Means with 4 clusters', fontsize=14, fontweight='bold')\n",
    "\n",
    "# annotate graph\n",
    "plt.annotate('quarterly review', xy=(13, 0.9), xycoords='data', xytext=(16, 1.1),\n",
    "            textcoords='data', va='top', ha='right', arrowprops=dict(facecolor=ciel, arrowstyle='fancy'))\n",
    "\n",
    "plt.annotate('yearly review', xy=(51, 0.8), xycoords='data', xytext=(51, 1.1),\n",
    "            textcoords='data', va='top', ha='right', arrowprops=dict(facecolor=ciel, arrowstyle='fancy'))\n",
    "\n",
    "plt.savefig('kmeans_maintenance.png')\n",
    "plt.show()"
   ]
  },
  {
   "cell_type": "markdown",
   "id": "32febf2d",
   "metadata": {},
   "source": [
    "**The ARI score drops below 0.8 after 13 weeks => re-fit model every 3 months. The ARI score then goes on to slowly decrease towards 0.8 after 51 weeks, so an additional annual review might be required.**"
   ]
  },
  {
   "cell_type": "code",
   "execution_count": null,
   "id": "4c05f3ac",
   "metadata": {},
   "outputs": [],
   "source": []
  }
 ],
 "metadata": {
  "kernelspec": {
   "display_name": "Python 3 (ipykernel)",
   "language": "python",
   "name": "python3"
  },
  "language_info": {
   "codemirror_mode": {
    "name": "ipython",
    "version": 3
   },
   "file_extension": ".py",
   "mimetype": "text/x-python",
   "name": "python",
   "nbconvert_exporter": "python",
   "pygments_lexer": "ipython3",
   "version": "3.9.13"
  }
 },
 "nbformat": 4,
 "nbformat_minor": 5
}
